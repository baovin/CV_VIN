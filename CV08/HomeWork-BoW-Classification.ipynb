{
 "cells": [
  {
   "cell_type": "markdown",
   "metadata": {},
   "source": [
    "# Assignment 8: Phân loại phương tiện giao thông\n"
   ]
  },
  {
   "cell_type": "markdown",
   "metadata": {},
   "source": [
    "## BÀI TẬP VỀ NHÀ \n",
    "\n",
    "Hãy sử dụng dữ liệu và 1 phần code đã làm ở bài tập thực hành trên lớp, để thực hiện các việc sau:\n",
    "\n",
    "1. Thử nghiệm thuật toán trích xuất đặc trưng BoW với số lượng từ trong từ điển khác nhau. Vẽ biểu đồ độ chính xác trên tập test ứng với từng trường hợp.\n",
    "\n",
    "2. Sử dụng thuật toán Grid search kết hợp với Cross Validation tìm tham số tốt nhất cho mô hình SVM.\n",
    "\n",
    "3. Thay SVM bằng các bộ phân loại: K-Nearest Neighbors, Decision tree, Random forest. So sánh các kết quả và đưa ra nhận xét. \n",
    "\n",
    "4. Optional: Sử dụng HOG để biểu diễn ảnh, và 1 bộ phân lớp nào đó để phân loại ảnh\n"
   ]
  },
  {
   "cell_type": "code",
   "execution_count": null,
   "metadata": {},
   "outputs": [],
   "source": []
  }
 ],
 "metadata": {
  "kernelspec": {
   "display_name": "Python 3 (ipykernel)",
   "language": "python",
   "name": "python3"
  },
  "language_info": {
   "codemirror_mode": {
    "name": "ipython",
    "version": 3
   },
   "file_extension": ".py",
   "mimetype": "text/x-python",
   "name": "python",
   "nbconvert_exporter": "python",
   "pygments_lexer": "ipython3",
   "version": "3.11.4"
  }
 },
 "nbformat": 4,
 "nbformat_minor": 2
}
