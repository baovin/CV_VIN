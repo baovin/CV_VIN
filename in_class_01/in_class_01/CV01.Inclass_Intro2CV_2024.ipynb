{
 "cells": [
  {
   "cell_type": "markdown",
   "metadata": {
    "collapsed": true,
    "jupyter": {
     "outputs_hidden": true
    }
   },
   "source": [
    "# Làm quen với Python cho xử lý ảnh\n",
    "\n",
    "Trong bài tập này ta sẽ làm quen với các thao tác lập trình cơ bản trong Python dành cho xử lý ảnh. Các thư viện sẽ được sử dụng trong bài tập này gồm có: os, numpy, opencv."
   ]
  },
  {
   "cell_type": "code",
   "execution_count": 3,
   "metadata": {},
   "outputs": [],
   "source": [
    "import os\n",
    "import numpy as np\n",
    "import cv2"
   ]
  },
  {
   "cell_type": "markdown",
   "metadata": {},
   "source": [
    "## Bài tập 1: Làm quen với thư viện os\n",
    "Trong các project về trí tuệ nhân tạo nói chung và thị giác máy tính nói riêng, việc sử dụng thành thạo các hàm trong thư viện os là rất quan trọng, đặc biệt hữu ích trong quá trình chuẩn bị dữ liệu. Chúng ta sẽ thực hành một vài hàm cơ bản, các hàm khác có thể tham khảo tại: https://docs.python.org/2/library/os.html"
   ]
  },
  {
   "cell_type": "markdown",
   "metadata": {},
   "source": [
    "- Hàm os.listdir() liệt kê tên tất cả các tệp và thư mục nằm trong một thư mục nào đó. Ví dụ ta có thư mục image, sử dụng hàm này có thể liệt kê tên tất cả các ảnh có trong thư mục này:"
   ]
  },
  {
   "cell_type": "code",
   "execution_count": 7,
   "metadata": {},
   "outputs": [
    {
     "data": {
      "text/plain": [
       "['4.jpg', '5.jpg', '2.jpg', '3.jpg', '1.jpg']"
      ]
     },
     "execution_count": 7,
     "metadata": {},
     "output_type": "execute_result"
    }
   ],
   "source": [
    "os.listdir('image')"
   ]
  },
  {
   "cell_type": "markdown",
   "metadata": {},
   "source": [
    "- Hàm os.path.join() nối các đường dẫn theo đúng format của hệ điều hành đang dùng. Ví dụ:"
   ]
  },
  {
   "cell_type": "code",
   "execution_count": 10,
   "metadata": {},
   "outputs": [
    {
     "data": {
      "text/plain": [
       "'image/1.jpg'"
      ]
     },
     "execution_count": 10,
     "metadata": {},
     "output_type": "execute_result"
    }
   ],
   "source": [
    "os.path.join('image', '1.jpg')"
   ]
  },
  {
   "cell_type": "markdown",
   "metadata": {},
   "source": [
    "- Hàm os.path.abspath() trả về đường dẫn tuyệt đối đến đối tượng truyền vào. Ví dụ:"
   ]
  },
  {
   "cell_type": "code",
   "execution_count": 13,
   "metadata": {},
   "outputs": [
    {
     "data": {
      "text/plain": [
       "'/Users/oanhnt/Library/CloudStorage/OneDrive-HanoiUniversityofScienceandTechnology/Data/Course/Course_VinIF_CV/2024/TLTH/CV01. Intro to CV/in_class_01/image'"
      ]
     },
     "execution_count": 13,
     "metadata": {},
     "output_type": "execute_result"
    }
   ],
   "source": [
    "os.path.abspath('image')"
   ]
  },
  {
   "cell_type": "markdown",
   "metadata": {},
   "source": [
    "- Ngoài ra còn một vài hàm hay được sử dụng:\n",
    "\n",
    "os.path.isdir(dir): Kiểm tra một đường dẫn thư mục có tồn tại hay không?\n",
    "\n",
    "os.mkdir: Tạo thư mục ứng với đường dẫn truyền vào\n",
    "\n",
    "os.makedirs: Tạo thư mục với option -recursive, tức là nếu tạo thư mục images/class và thư mục images chưa tồn tại thì sẽ tự động tạo cả thư mục images."
   ]
  },
  {
   "cell_type": "markdown",
   "metadata": {},
   "source": [
    "## BÀI TẬP: Hãy tạo 2 danh sách (python list) chứa đường dẫn tuyệt đối và đường dẫn tương đối đến các tệp nằm trong thư mục 'image'"
   ]
  },
  {
   "cell_type": "code",
   "execution_count": 17,
   "metadata": {},
   "outputs": [
    {
     "name": "stdout",
     "output_type": "stream",
     "text": [
      "[]\n",
      "[]\n"
     ]
    }
   ],
   "source": [
    "abs_path = []\n",
    "rel_path = []\n",
    "\n",
    "#### YOUR CODE HERE ####\n",
    "\n",
    "#### END YOUR CODE #####\n",
    "print(abs_path)\n",
    "print(rel_path)"
   ]
  },
  {
   "cell_type": "markdown",
   "metadata": {},
   "source": [
    "# Bài tập 2: Làm quen với thư viện Numpy và OpenCV\n",
    "\n",
    "Numpy là một trong những thư viện hay được sử dụng nhất trong Python, thư viện giúp chúng ta dễ dàng thực hiện các phép toán, các phép biến đổi trên ma trận nhiều chiều. \n",
    "\n",
    "OpenCV là một trong những framework tốt nhất hiện tại dùng trong xử lý ảnh với việc hỗ trợ rất nhiều hàm, phép biến đổi quan trọng, giúp cho việc lập trình các mô hình trở nên dễ dàng hơn rất nhiều. OpenCV chủ yếu xử lý trên các ảnh và video, mà ảnh và video lại được lưu dưới dạng các ma trận số có thể xử lý bằng thư viện numpy. Do đó việc thành thạo 2 thư viện này là yêu cầu bắt buộc."
   ]
  },
  {
   "cell_type": "markdown",
   "metadata": {},
   "source": [
    "- Đọc ảnh với OpenCV: Sử dụng hàm cv2.imread(path) để đọc ảnh với đường dẫn path, hàm trả về một đối tượng numpy array là một ma trận 3 chiều mô tả ảnh. Hàm img.shape sẽ trả về (height,width,channels) của ảnh"
   ]
  },
  {
   "cell_type": "code",
   "execution_count": 5,
   "metadata": {},
   "outputs": [
    {
     "ename": "NameError",
     "evalue": "name 'cv2' is not defined",
     "output_type": "error",
     "traceback": [
      "\u001b[0;31m---------------------------------------------------------------------------\u001b[0m",
      "\u001b[0;31mNameError\u001b[0m                                 Traceback (most recent call last)",
      "Cell \u001b[0;32mIn[5], line 1\u001b[0m\n\u001b[0;32m----> 1\u001b[0m img \u001b[38;5;241m=\u001b[39m cv2\u001b[38;5;241m.\u001b[39mimread(rel_path[\u001b[38;5;241m0\u001b[39m])\n\u001b[1;32m      2\u001b[0m \u001b[38;5;28mprint\u001b[39m(\u001b[38;5;28mtype\u001b[39m(img))\n\u001b[1;32m      3\u001b[0m \u001b[38;5;28mprint\u001b[39m(img\u001b[38;5;241m.\u001b[39mshape)\n",
      "\u001b[0;31mNameError\u001b[0m: name 'cv2' is not defined"
     ]
    }
   ],
   "source": [
    "img = cv2.imread(rel_path[0])\n",
    "print(type(img))\n",
    "print(img.shape)"
   ]
  },
  {
   "cell_type": "markdown",
   "metadata": {},
   "source": [
    "- Hiển thị ảnh: Trong OpenCV ta có hàm cv2.imshow() để hiển thị ảnh. Tuy nhiên cách hiển thị ảnh này sẽ tạo một cửa sổ mới để hiển thị. Để thuận tiện khi dùng jupyter notebook, ta sẽ thử hiển thị ảnh bằng thư viện matplotlib:"
   ]
  },
  {
   "cell_type": "code",
   "execution_count": 6,
   "metadata": {},
   "outputs": [],
   "source": [
    "import matplotlib.pyplot as plt\n",
    "\n",
    "plt.imshow(img)\n",
    "plt.show()"
   ]
  },
  {
   "cell_type": "markdown",
   "metadata": {},
   "source": [
    "Như chúng ta có thể thấy, ảnh hiển thị bởi matplotlib có vẻ không giống với ảnh thật. Lý do là vì OpenCV lưu trữ ảnh theo thứ tự kênh màu B, G, R còn matplotlib hiển thị ảnh theo thứ tự kênh màu R, G, B. Tiếp theo ta sẽ học cách sử dụng OpenCV để thay đổi các kênh màu của ảnh.\n",
    "\n",
    "- Thay đổi kênh màu ảnh: Hàm cv2.cvtColor(), hãy quan sát các ví dụ sau:"
   ]
  },
  {
   "cell_type": "code",
   "execution_count": 7,
   "metadata": {},
   "outputs": [],
   "source": [
    "img2 = cv2.cvtColor(img, cv2.COLOR_BGR2RGB)\n",
    "print(type(img2))\n",
    "print(img2.shape)\n",
    "plt.imshow(img2)\n",
    "plt.show()"
   ]
  },
  {
   "cell_type": "code",
   "execution_count": 8,
   "metadata": {},
   "outputs": [],
   "source": [
    "img3 = cv2.cvtColor(img, cv2.COLOR_BGR2GRAY)\n",
    "print(type(img3))\n",
    "print(img3.shape)\n",
    "plt.imshow(img3, cmap='gray')\n",
    "plt.show()"
   ]
  },
  {
   "cell_type": "code",
   "execution_count": 9,
   "metadata": {},
   "outputs": [],
   "source": [
    "img3 = cv2.cvtColor(img, cv2.COLOR_BGR2Lab)\n",
    "# cv2.imshow('image', img3)\n",
    "# cv2.waitKey(0)\n",
    "# cv2.destroyAllWindows()\n",
    "\n",
    "plt.imshow(img3)\n",
    "plt.show()\n",
    "\n",
    "plt.imshow(cv2.cvtColor(img3, cv2.COLOR_BGR2RGB))\n",
    "plt.show()\n",
    "\n",
    "plt.imshow(cv2.cvtColor(img3, cv2.COLOR_Lab2RGB))\n",
    "plt.show()"
   ]
  },
  {
   "cell_type": "code",
   "execution_count": 10,
   "metadata": {},
   "outputs": [],
   "source": [
    "img3 = cv2.cvtColor(img, cv2.COLOR_BGR2HSV)\n",
    "\n",
    "# cv2.imshow('image', img3)\n",
    "# cv2.waitKey(0)\n",
    "# cv2.destroyAllWindows()\n",
    "\n",
    "plt.imshow(img3)\n",
    "plt.show()\n",
    "\n",
    "img31 = cv2.cvtColor(img3, cv2.COLOR_BGR2RGB)\n",
    "plt.imshow(img31)\n",
    "plt.show()\n",
    "\n",
    "img32 = cv2.cvtColor(img3, cv2.COLOR_HSV2RGB)\n",
    "plt.imshow(img32)\n",
    "plt.show()"
   ]
  },
  {
   "cell_type": "markdown",
   "metadata": {},
   "source": [
    "- Thay đổi kích thước ảnh: Sử dụng hàm cv2.resize:\n",
    "  + https://docs.opencv.org/3.4/da/d54/group__imgproc__transform.html#ga47a974309e9102f5f08231edc7e7529d\n",
    "  + Cần lưu ý phương pháp sử dụng khi resize: tham số interpolation khi phóng to và thu nhỏ"
   ]
  },
  {
   "cell_type": "code",
   "execution_count": 11,
   "metadata": {},
   "outputs": [],
   "source": [
    "img4 = cv2.resize(img, (100, 100))\n",
    "print(img4.shape)\n",
    "plt.imshow(img4)\n",
    "plt.show()"
   ]
  },
  {
   "cell_type": "markdown",
   "metadata": {},
   "source": [
    "### Bài tập 2.1: Hiển thị các kênh màu của ảnh\n",
    "Ở bài tập này ta sẽ hiển thị lần lượt các kênh màu B, G, R của ảnh ba chiều. Cách làm: Gán các giá trị cường độ màu tại các pixel của kênh màu không quan tâm bằng 0. Ví dụ: Nếu cần hiển thị kênh màu xanh lam (B) thì gán các giá trị cường độ màu G, R bằng 0:"
   ]
  },
  {
   "cell_type": "code",
   "execution_count": 12,
   "metadata": {},
   "outputs": [],
   "source": [
    "img = cv2.imread(rel_path[1])\n",
    "\n",
    "b_channel = None\n",
    "g_channel = None\n",
    "r_channel = None\n",
    "\n",
    "#### YOUR CODE HERE ####\n",
    "\n",
    "#### END YOUR CODE #####\n",
    "\n",
    "plt.subplot(1, 3, 1)\n",
    "plt.imshow(cv2.cvtColor(b_channel, cv2.COLOR_BGR2RGB))\n",
    "plt.subplot(1, 3, 2)\n",
    "plt.imshow(cv2.cvtColor(g_channel, cv2.COLOR_BGR2RGB))\n",
    "plt.subplot(1, 3, 3)\n",
    "plt.imshow(cv2.cvtColor(r_channel, cv2.COLOR_BGR2RGB))\n",
    "plt.show()"
   ]
  },
  {
   "cell_type": "markdown",
   "metadata": {},
   "source": [
    "### Bài tập 2.2: Xây dựng vector histogram của ảnh xám\n",
    "\n",
    "Bài tập này giúp bạn làm quen với thao tác trên mảng numpy. Bạn cần lập trình tính giá trị vector histogram, đây là vector gồm 256 phần tử, phần tử thứ i là số lần xuất hiện của giá trị cường độ i trong ảnh xám 'gray':"
   ]
  },
  {
   "cell_type": "code",
   "execution_count": 13,
   "metadata": {},
   "outputs": [],
   "source": [
    "img = cv2.imread(rel_path[2])\n",
    "gray = cv2.cvtColor(img, cv2.COLOR_BGR2GRAY)\n",
    "plt.imshow(gray, cmap='gray')\n",
    "plt.show()\n",
    "print(gray.shape)\n",
    "histogram = np.zeros((256, ))\n",
    "print(histogram.shape)\n",
    "\n",
    "#### YOUR CODE HERE ####\n",
    "\n",
    "#### END YOUR CODE #####\n",
    "plt.plot(histogram)\n",
    "plt.show()"
   ]
  },
  {
   "cell_type": "markdown",
   "metadata": {},
   "source": [
    "Ngoài ra để biểu diễn histogram có thể sử dụng hàm sau:\n",
    "plt.hist() - https://matplotlib.org/api/_as_gen/matplotlib.pyplot.hist.html"
   ]
  },
  {
   "cell_type": "code",
   "execution_count": 14,
   "metadata": {},
   "outputs": [],
   "source": [
    "plt.hist(gray.ravel(),bins=256); plt.show()"
   ]
  },
  {
   "cell_type": "markdown",
   "metadata": {},
   "source": [
    "Hãy thử nghiệm thay đổi các giá trị bins khác nhau"
   ]
  },
  {
   "cell_type": "code",
   "execution_count": 1,
   "metadata": {},
   "outputs": [],
   "source": [
    "#### YOUR CODE HERE ####\n",
    "\n",
    "#### END YOUR CODE #####"
   ]
  },
  {
   "cell_type": "markdown",
   "metadata": {},
   "source": [
    "# Bài 3 (Nếu đủ thời gian) Không gian màu vs. điều kiện chiếu sáng \n",
    "Trong folder pieces bao gồm các bức ảnh có cùng màu sắc với độ sáng khác nhau được cắt ra từ các bức ảnh rubik.\n",
    "Hãy biểu diễn và nhận xét sự thay đổi của các kênh màu khi có sự thay đổi về ánh sáng. Ví dụ sau không gian màu BGR với các ảnh màu vàng \n",
    "\n",
    "Yêu cầu: Bạn hãy thực hiện trên các thang màu khác HSV, Lab, YCrCb và đưa ra nhận xét"
   ]
  },
  {
   "cell_type": "code",
   "execution_count": 36,
   "metadata": {},
   "outputs": [],
   "source": [
    "import matplotlib.pyplot as plt\n",
    "from matplotlib.colors import LogNorm\n",
    "import cv2,glob\n",
    "import numpy as np"
   ]
  },
  {
   "cell_type": "code",
   "execution_count": 22,
   "metadata": {},
   "outputs": [],
   "source": [
    "color = 'pieces/yellow'"
   ]
  },
  {
   "cell_type": "markdown",
   "metadata": {},
   "source": [
    "Chọn 2 ảnh có ánh sáng tương tự nhau của màu vàng"
   ]
  },
  {
   "cell_type": "code",
   "execution_count": 25,
   "metadata": {},
   "outputs": [],
   "source": [
    "zoom = 0\n",
    "# load tất cả các file trong folder\n",
    "files = glob.glob(color + '*.jpg')\n",
    "files.sort()\n",
    "files=files[6:9]\n",
    "\n",
    "B = np.array([])\n",
    "G = np.array([])\n",
    "R = np.array([])"
   ]
  },
  {
   "cell_type": "code",
   "execution_count": 27,
   "metadata": {},
   "outputs": [],
   "source": [
    "for fi in files[:]:\n",
    "    # BGR\n",
    "    im = cv2.imread(fi)\n",
    "    b = im[:,:,0]\n",
    "    b = b.reshape(b.shape[0]*b.shape[1])\n",
    "    g = im[:,:,1]\n",
    "    g = g.reshape(g.shape[0]*g.shape[1])\n",
    "    r = im[:,:,2]\n",
    "    r = r.reshape(r.shape[0]*r.shape[1])\n",
    "    B = np.append(B,b)\n",
    "    G = np.append(G,g)\n",
    "    R = np.append(R,r)"
   ]
  },
  {
   "cell_type": "code",
   "execution_count": 29,
   "metadata": {},
   "outputs": [
    {
     "data": {
      "image/png": "[encoded data removed]",
      "text/plain": [
       "<Figure size 2000x1000 with 6 Axes>"
      ]
     },
     "metadata": {},
     "output_type": "display_data"
    }
   ],
   "source": [
    "# Plotting the histogram\n",
    "nbins = 10\n",
    "plt.figure(figsize=[20,10])\n",
    "plt.subplot(2,3,1)\n",
    "plt.hist2d(B, G, bins=nbins, norm=LogNorm())\n",
    "plt.xlabel('B')\n",
    "plt.ylabel('G')\n",
    "plt.title('RGB')\n",
    "if not zoom:\n",
    "    plt.xlim([0,255])\n",
    "    plt.ylim([0,255])\n",
    "plt.colorbar()\n",
    "plt.subplot(2,3,2)\n",
    "plt.hist2d(B, R, bins=nbins, norm=LogNorm())\n",
    "plt.colorbar()\n",
    "plt.xlabel('B')\n",
    "plt.ylabel('R')\n",
    "plt.title('RGB')\n",
    "if not zoom:\n",
    "    plt.xlim([0,255])\n",
    "    plt.ylim([0,255])\n",
    "plt.subplot(2,3,3)\n",
    "plt.hist2d(R, G, bins=nbins, norm=LogNorm())\n",
    "plt.colorbar()\n",
    "plt.xlabel('R')\n",
    "plt.ylabel('G')\n",
    "plt.title('RGB')\n",
    "if not zoom:\n",
    "    plt.xlim([0,255])\n",
    "    plt.ylim([0,255])"
   ]
  },
  {
   "cell_type": "markdown",
   "metadata": {},
   "source": [
    "Biểu đồ sự thay đổi với 8 ảnh khác nhau của màu vàng"
   ]
  },
  {
   "cell_type": "code",
   "execution_count": 31,
   "metadata": {},
   "outputs": [
    {
     "data": {
      "image/png": "[encoded data removed]",
      "text/plain": [
       "<Figure size 2000x1000 with 6 Axes>"
      ]
     },
     "metadata": {},
     "output_type": "display_data"
    }
   ],
   "source": [
    "zoom = 0\n",
    "# load tất cả các file trong folder\n",
    "files = glob.glob(color + '*.jpg')\n",
    "files.sort()\n",
    "B = np.array([])\n",
    "G = np.array([])\n",
    "R = np.array([])\n",
    "for fi in files[:]:\n",
    "    # BGR\n",
    "    im = cv2.imread(fi)\n",
    "    b = im[:,:,0]\n",
    "    b = b.reshape(b.shape[0]*b.shape[1])\n",
    "    g = im[:,:,1]\n",
    "    g = g.reshape(g.shape[0]*g.shape[1])\n",
    "    r = im[:,:,2]\n",
    "    r = r.reshape(r.shape[0]*r.shape[1])\n",
    "    B = np.append(B,b)\n",
    "    G = np.append(G,g)\n",
    "    R = np.append(R,r)\n",
    "# Plotting the histogram\n",
    "nbins = 10\n",
    "plt.figure(figsize=[20,10])\n",
    "plt.subplot(2,3,1)\n",
    "plt.hist2d(B, G, bins=nbins, norm=LogNorm())\n",
    "plt.xlabel('B')\n",
    "plt.ylabel('G')\n",
    "plt.title('RGB')\n",
    "if not zoom:\n",
    "    plt.xlim([0,255])\n",
    "    plt.ylim([0,255])\n",
    "plt.colorbar()\n",
    "plt.subplot(2,3,2)\n",
    "plt.hist2d(B, R, bins=nbins, norm=LogNorm())\n",
    "plt.colorbar()\n",
    "plt.xlabel('B')\n",
    "plt.ylabel('R')\n",
    "plt.title('RGB')\n",
    "if not zoom:\n",
    "    plt.xlim([0,255])\n",
    "    plt.ylim([0,255])\n",
    "plt.subplot(2,3,3)\n",
    "plt.hist2d(R, G, bins=nbins, norm=LogNorm())\n",
    "plt.colorbar()\n",
    "plt.xlabel('R')\n",
    "plt.ylabel('G')\n",
    "plt.title('RGB')\n",
    "if not zoom:\n",
    "    plt.xlim([0,255])\n",
    "    plt.ylim([0,255])"
   ]
  },
  {
   "cell_type": "code",
   "execution_count": null,
   "metadata": {},
   "outputs": [],
   "source": []
  }
 ],
 "metadata": {
  "kernelspec": {
   "display_name": "Python 3 (ipykernel)",
   "language": "python",
   "name": "python3"
  },
  "language_info": {
   "codemirror_mode": {
    "name": "ipython",
    "version": 3
   },
   "file_extension": ".py",
   "mimetype": "text/x-python",
   "name": "python",
   "nbconvert_exporter": "python",
   "pygments_lexer": "ipython3",
   "version": "3.12.4"
  }
 },
 "nbformat": 4,
 "nbformat_minor": 4
}
