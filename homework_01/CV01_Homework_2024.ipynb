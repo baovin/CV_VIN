{
  "cells": [
    {
      "cell_type": "markdown",
      "metadata": {
        "id": "view-in-github",
        "colab_type": "text"
      },
      "source": [
        "<a href=\"https://colab.research.google.com/github/baovin/CV_VIN/blob/main/CV01_Homework_2024.ipynb\" target=\"_parent\"><img src=\"https://colab.research.google.com/assets/colab-badge.svg\" alt=\"Open In Colab\"/></a>"
      ]
    },
    {
      "cell_type": "markdown",
      "metadata": {
        "id": "EsW9r4T8vy0B"
      },
      "source": [
        "# BTVN: Phát hiện da người dựa trên lấy ngưỡng trên không gian màu"
      ]
    },
    {
      "cell_type": "markdown",
      "metadata": {
        "id": "LeKwFvLyvy0D"
      },
      "source": [
        "- Sử dụng không gian màu để phát hiện da trong bức ảnh\n",
        "- có thể sử dụng các ngưỡng sau :\n",
        "  - 0<=H<=17 and 15<=S<=170 and 0<=V<=255\n",
        "  - 0<=Y<=255 and 135<=Cr<=180 and 85<=Cb<=135\n",
        "  - 0<=Y<=255 and 150<=Cr<=200 and 100<=Cb<=150\n",
        "- Có thể kết hợp các kết quả 2 không gian với nhau\n",
        "- So sánh và nhận xét trên các tập dữ liệu trong folder skin\n",
        "-Tài liệu tham khảo:\n",
        "     https://linkinghub.elsevier.com/retrieve/pii/S0262885620300573\n",
        "     Shaik_ICRTC-2015: Comparative Study of Skin Color Detection and Segmentation in HSV and YCbCr Color Space"
      ]
    },
    {
      "cell_type": "code",
      "execution_count": 2,
      "metadata": {
        "colab": {
          "base_uri": "https://localhost:8080/"
        },
        "id": "DhwwRgb0vy0F",
        "outputId": "6afe423c-1ddf-4f7b-fe1c-7de5ffe22278"
      },
      "outputs": [
        {
          "output_type": "stream",
          "name": "stdout",
          "text": [
            "Drive already mounted at /content/drive; to attempt to forcibly remount, call drive.mount(\"/content/drive\", force_remount=True).\n"
          ]
        }
      ],
      "source": [
        "from google.colab import drive\n",
        "drive.mount('/content/drive')\n",
        "\n"
      ]
    },
    {
      "cell_type": "code",
      "source": [
        "import cv2\n",
        "import numpy as np\n",
        "\n",
        "#Open a simple image\n",
        "img=cv2.imread(\"/content/drive/MyDrive/homework_01/skin/HGR1/0/T_P_hgr1_id04_8.jpg\")\n",
        "\n",
        "#converting from gbr to hsv color space\n",
        "img_HSV = cv2.cvtColor(img, cv2.COLOR_BGR2HSV)\n",
        "#skin color range for hsv color space\n",
        "HSV_mask = cv2.inRange(img_HSV, (0, 15, 0), (17,170,255))\n",
        "HSV_mask = cv2.morphologyEx(HSV_mask, cv2.MORPH_OPEN, np.ones((3,3), np.uint8))\n",
        "\n",
        "#converting from gbr to YCbCr color space\n",
        "img_YCrCb = cv2.cvtColor(img, cv2.COLOR_BGR2YCrCb)\n",
        "#skin color range for hsv color space\n",
        "YCrCb_mask = cv2.inRange(img_YCrCb, (0, 135, 85), (255,180,135))\n",
        "YCrCb_mask = cv2.morphologyEx(YCrCb_mask, cv2.MORPH_OPEN, np.ones((3,3), np.uint8))\n",
        "\n",
        "#merge skin detection (YCbCr and hsv)\n",
        "global_mask=cv2.bitwise_and(YCrCb_mask,HSV_mask)\n",
        "global_mask=cv2.medianBlur(global_mask,3)\n",
        "global_mask = cv2.morphologyEx(global_mask, cv2.MORPH_OPEN, np.ones((4,4), np.uint8))\n",
        "\n",
        "\n",
        "HSV_result = cv2.bitwise_not(HSV_mask)\n",
        "YCrCb_result = cv2.bitwise_not(YCrCb_mask)\n",
        "global_result=cv2.bitwise_not(global_mask)\n",
        "\n",
        "\n",
        "# show results\n",
        "# cv2.imshow(\"1_HSV.jpg\",HSV_result)\n",
        "# cv2.imshow(\"2_YCbCr.jpg\",YCrCb_result)\n",
        "# cv2.imshow(\"3_global_result.jpg\",global_result)\n",
        "# cv2.imshow(\"Image.jpg\",img)\n",
        "cv2.imwrite(\"1_HSV.jpg\",HSV_result)\n",
        "cv2.imwrite(\"2_YCbCr.jpg\",YCrCb_result)\n",
        "cv2.imwrite(\"3_global_result.jpg\",global_result)\n",
        "cv2.waitKey(0)\n",
        "cv2.destroyAllWindows()"
      ],
      "metadata": {
        "id": "4SCSagjcwNB4"
      },
      "execution_count": 12,
      "outputs": []
    },
    {
      "cell_type": "code",
      "source": [
        "from google.colab.patches import cv2_imshow\n",
        "cv2_imshow(HSV_result)\n",
        "cv2_imshow(YCrCb_result)\n",
        "cv2_imshow(global_result)"
      ],
      "metadata": {
        "colab": {
          "base_uri": "https://localhost:8080/",
          "height": 1000
        },
        "id": "xj6hAEVCwnS3",
        "outputId": "b3e11a45-01df-4332-da39-e5c7750d648a"
      },
      "execution_count": 17,
      "outputs": [
        {
          "output_type": "display_data",
          "data": {
            "text/plain": [
              "<PIL.Image.Image image mode=L size=262x376>"
            ],
            "image/png": "[encoded data removed]"
          },
          "metadata": {}
        },
        {
          "output_type": "display_data",
          "data": {
            "text/plain": [
              "<PIL.Image.Image image mode=L size=262x376>"
            ],
            "image/png": "[encoded data removed]"
          },
          "metadata": {}
        },
        {
          "output_type": "display_data",
          "data": {
            "text/plain": [
              "<PIL.Image.Image image mode=L size=262x376>"
            ],
            "image/png": "[encoded data removed]"
          },
          "metadata": {}
        }
      ]
    }
  ],
  "metadata": {
    "kernelspec": {
      "display_name": "Python 3 (ipykernel)",
      "language": "python",
      "name": "python3"
    },
    "language_info": {
      "codemirror_mode": {
        "name": "ipython",
        "version": 3
      },
      "file_extension": ".py",
      "mimetype": "text/x-python",
      "name": "python",
      "nbconvert_exporter": "python",
      "pygments_lexer": "ipython3",
      "version": "3.12.4"
    },
    "colab": {
      "provenance": [],
      "include_colab_link": true
    }
  },
  "nbformat": 4,
  "nbformat_minor": 0
}