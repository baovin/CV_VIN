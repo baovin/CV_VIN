{
 "cells": [
  {
   "cell_type": "markdown",
   "metadata": {},
   "source": [
    "# BTVN: Phát hiện da người dựa trên lấy ngưỡng trên không gian màu"
   ]
  },
  {
   "cell_type": "markdown",
   "metadata": {},
   "source": [
    "- Sử dụng không gian màu để phát hiện da trong bức ảnh\n",
    "- có thể sử dụng các ngưỡng sau :\n",
    "  - 0<=H<=17 and 15<=S<=170 and 0<=V<=255\n",
    "  - 0<=Y<=255 and 135<=Cr<=180 and 85<=Cb<=135\n",
    "  - 0<=Y<=255 and 150<=Cr<=200 and 100<=Cb<=150\n",
    "- Có thể kết hợp các kết quả 2 không gian với nhau\n",
    "- So sánh và nhận xét trên các tập dữ liệu trong folder skin\n",
    "-Tài liệu tham khảo: \n",
    "     https://linkinghub.elsevier.com/retrieve/pii/S0262885620300573\n",
    "     Shaik_ICRTC-2015: Comparative Study of Skin Color Detection and Segmentation in HSV and YCbCr Color Space"
   ]
  },
  {
   "cell_type": "code",
   "execution_count": null,
   "metadata": {},
   "outputs": [],
   "source": []
  }
 ],
 "metadata": {
  "kernelspec": {
   "display_name": "Python 3 (ipykernel)",
   "language": "python",
   "name": "python3"
  },
  "language_info": {
   "codemirror_mode": {
    "name": "ipython",
    "version": 3
   },
   "file_extension": ".py",
   "mimetype": "text/x-python",
   "name": "python",
   "nbconvert_exporter": "python",
   "pygments_lexer": "ipython3",
   "version": "3.12.4"
  }
 },
 "nbformat": 4,
 "nbformat_minor": 4
}
